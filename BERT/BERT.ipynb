{
 "cells": [
  {
   "cell_type": "markdown",
   "metadata": {},
   "source": [
    "# BERT for Data Extraction"
   ]
  },
  {
   "cell_type": "markdown",
   "metadata": {},
   "source": [
    "https://arxiv.org/pdf/2010.09885"
   ]
  },
  {
   "cell_type": "code",
   "execution_count": 23,
   "metadata": {},
   "outputs": [],
   "source": [
    "# Load model directly\n",
    "from transformers import AutoTokenizer, AutoModelForMaskedLM\n",
    "tokenizer = AutoTokenizer.from_pretrained(\"DeepChem/ChemBERTa-77M-MLM\") # load tokenizer class\n",
    "\n",
    "model = AutoModelForMaskedLM.from_pretrained(\"DeepChem/ChemBERTa-77M-MLM\")"
   ]
  },
  {
   "cell_type": "markdown",
   "metadata": {},
   "source": [
    "# Tokenizing the current Dataset.\n",
    "\n",
    "For the model to understand, we have to tokenize the dataset completely.\n",
    "\n",
    "- Models like BERT cannot process raw text directly. They require the text to be converted into numerical representations (tokens).\n",
    "- Tokenization splits the text into smaller units (tokens), maps them to unique IDs, and prepares them for input into the model.\n",
    "- Tokenizers are model specific: the tokenizer for one Cohere model is not compatible with the tokenizer for another Cohere model, because they were trained using different tokenization methods."
   ]
  },
  {
   "cell_type": "markdown",
   "metadata": {},
   "source": [
    "### Working of Entire Hugging face tokenizer\n",
    "\n",
    "- Convert texts into tokens\n",
    "- Map Tokens to IDs ( Assign each token to a unique ID)\n",
    "- Add tokens like [CLS] and [SEP] (basically label as input and output)\n",
    "- Returning Attention Masks: Generating a mask to indicate which tokens are actual input and which are padding.\n",
    "\n",
    "BERTs use Subword based tokenization. They split one word into mulitple subwords."
   ]
  },
  {
   "cell_type": "code",
   "execution_count": null,
   "metadata": {},
   "outputs": [
    {
     "name": "stdout",
     "output_type": "stream",
     "text": [
      "['p', 'n', 'o', 's', 'o', 'n', 'c']\n",
      "[206, 25, 44, 42, 44, 25, 15]\n",
      "[12, 206, 25, 44, 42, 44, 25, 15, 13]\n",
      "{'input_ids': [12, 206, 25, 44, 42, 44, 25, 15, 13], 'attention_mask': [1, 1, 1, 1, 1, 1, 1, 1, 1]}\n"
     ]
    }
   ],
   "source": [
    "text = \"I am Satya\"\n",
    "text = \"phenol is organic\"\n",
    "token = tokenizer.tokenize(text)\n",
    "print(token)\n",
    "token_ids = tokenizer.convert_tokens_to_ids(token)\n",
    "print(token_ids)\n",
    "encoded = tokenizer.encode(text, max_length=512, padding= True, truncation=True)\n",
    "print(encoded)\n",
    "ATTencoded = tokenizer(text, max_length=512, padding= True, truncation=True)\n",
    "print(ATTencoded)\n",
    "# Explanation: 1 for actual tokens, 0 for padding"
   ]
  },
  {
   "cell_type": "markdown",
   "metadata": {},
   "source": [
    "- max_length: Controls the maximum size of the sequence.\n",
    "- padding: Ensures all sequences in a batch are the same length.\n",
    "- truncation: Shortens sequences that exceed the maximum length."
   ]
  },
  {
   "cell_type": "markdown",
   "metadata": {},
   "source": [
    "### 1. Load Dataset and convert from pandas dataset to hugging face dataset.\n",
    "\n",
    "- Why convert? Hugging Face Dataset is optimized for large datasets that may not fit into memory. It uses memory-mapped files and lazy loading, allowing you to work with datasets that are too large for a pandas DataFrame.\n",
    "\n",
    "- Not just that, it also helps applying transformations to the dataset using .map() function"
   ]
  },
  {
   "cell_type": "code",
   "execution_count": 12,
   "metadata": {},
   "outputs": [],
   "source": [
    "from datasets import *\n",
    "from transformers import AutoTokenizer  \n",
    "import pandas as pd\n",
    "\n",
    "data = pd.read_csv(r\"D:\\Bunker\\OneDrive - Amrita vishwa vidyapeetham\\BaseCamp\\ML\\PLAI\\Dataset_17_feat.csv\")\n",
    "data.head()\n",
    "\n",
    "dataset = Dataset.from_pandas(data)"
   ]
  },
  {
   "cell_type": "markdown",
   "metadata": {},
   "source": [
    "### 2. Tokenizer instantiation"
   ]
  },
  {
   "cell_type": "code",
   "execution_count": null,
   "metadata": {},
   "outputs": [],
   "source": [
    "tokenizer = AutoTokenizer.from_pretrained(\"DeepChem/ChemBERTa-77M-MLM\") # load tokenizer class"
   ]
  },
  {
   "cell_type": "markdown",
   "metadata": {},
   "source": [
    "### 3. Tokenize Dataset"
   ]
  },
  {
   "cell_type": "markdown",
   "metadata": {},
   "source": [
    "\"tokenized_dataset = dataset.map(token_it, batched=True)\"\n",
    "\n",
    "This line applies the token_it function to every row in your dataset.\n",
    "The map function iterates through each row in the dataset and makes it a tokenized row"
   ]
  },
  {
   "cell_type": "code",
   "execution_count": 44,
   "metadata": {},
   "outputs": [
    {
     "name": "stderr",
     "output_type": "stream",
     "text": [
      "Map: 100%|██████████| 3783/3783 [00:00<00:00, 43645.96 examples/s]\n"
     ]
    },
    {
     "data": {
      "text/plain": [
       "Dataset({\n",
       "    features: ['Experimental_index', 'DP_Group', 'LA/GA', 'Polymer_MW', 'CL Ratio', 'Drug_Tm', 'Drug_Pka', 'Initial D/M ratio', 'DLC', 'SA-V', 'SE', 'Drug_Mw', 'Drug_TPSA', 'Drug_NHA', 'Drug_LogP', 'Time', 'T=0.25', 'T=0.5', 'T=1.0', 'Release', 'input_ids', 'attention_mask'],\n",
       "    num_rows: 3783\n",
       "})"
      ]
     },
     "metadata": {},
     "output_type": "display_data"
    }
   ],
   "source": [
    "\n",
    "\n",
    "def token_it(dict):\n",
    "\n",
    "    return tokenizer(dict[\"DP_Group\"], padding=True, truncation=True, max_length=512)\n",
    "    \n",
    "\n",
    "tokenized_dataset = dataset.map(token_it, batched=True)\n",
    "display(tokenized_dataset)"
   ]
  },
  {
   "cell_type": "markdown",
   "metadata": {},
   "source": [
    "NICE! now we have tokenized our ENTIRE DATASET.\n",
    "now lets train our model."
   ]
  },
  {
   "cell_type": "markdown",
   "metadata": {},
   "source": [
    "# Training(Fine-Tuning) the BERT Model\n",
    "\n",
    "Transformers provides the Trainer API, which offers a comprehensive set of training features, for fine-tuning any of the models on the Hub.\n",
    "https://huggingface.co/docs/transformers/en/training"
   ]
  },
  {
   "cell_type": "markdown",
   "metadata": {},
   "source": [
    "### Importing "
   ]
  },
  {
   "cell_type": "code",
   "execution_count": 48,
   "metadata": {},
   "outputs": [],
   "source": [
    "from transformers import Trainer, TrainingArguments\n",
    "from transformers import DataCollatorForLanguageModeling, TrainingArguments, Trainer\n"
   ]
  },
  {
   "cell_type": "code",
   "execution_count": 49,
   "metadata": {},
   "outputs": [
    {
     "name": "stderr",
     "output_type": "stream",
     "text": [
      "C:\\Users\\satya\\AppData\\Local\\Temp\\ipykernel_30832\\3648588205.py:23: FutureWarning: `tokenizer` is deprecated and will be removed in version 5.0.0 for `Trainer.__init__`. Use `processing_class` instead.\n",
      "  trainer = Trainer(\n"
     ]
    },
    {
     "data": {
      "text/html": [
       "\n",
       "    <div>\n",
       "      \n",
       "      <progress value='1419' max='1419' style='width:300px; height:20px; vertical-align: middle;'></progress>\n",
       "      [1419/1419 01:01, Epoch 3/3]\n",
       "    </div>\n",
       "    <table border=\"1\" class=\"dataframe\">\n",
       "  <thead>\n",
       " <tr style=\"text-align: left;\">\n",
       "      <th>Step</th>\n",
       "      <th>Training Loss</th>\n",
       "    </tr>\n",
       "  </thead>\n",
       "  <tbody>\n",
       "    <tr>\n",
       "      <td>500</td>\n",
       "      <td>0.760100</td>\n",
       "    </tr>\n",
       "    <tr>\n",
       "      <td>1000</td>\n",
       "      <td>0.318600</td>\n",
       "    </tr>\n",
       "  </tbody>\n",
       "</table><p>"
      ],
      "text/plain": [
       "<IPython.core.display.HTML object>"
      ]
     },
     "metadata": {},
     "output_type": "display_data"
    },
    {
     "data": {
      "text/plain": [
       "('./chemberta_finetuned\\\\tokenizer_config.json',\n",
       " './chemberta_finetuned\\\\special_tokens_map.json',\n",
       " './chemberta_finetuned\\\\vocab.json',\n",
       " './chemberta_finetuned\\\\merges.txt',\n",
       " './chemberta_finetuned\\\\added_tokens.json',\n",
       " './chemberta_finetuned\\\\tokenizer.json')"
      ]
     },
     "execution_count": 49,
     "metadata": {},
     "output_type": "execute_result"
    }
   ],
   "source": [
    "\n",
    "# Create a data collator for masked language modeling\n",
    "data_collator = DataCollatorForLanguageModeling(\n",
    "    tokenizer=tokenizer,\n",
    "    mlm=True,\n",
    "    mlm_probability=0.15\n",
    ")\n",
    "\n",
    "# Define training arguments\n",
    "training_args = TrainingArguments(\n",
    "    output_dir=\"./chemberta_finetuned\",\n",
    "    overwrite_output_dir=True,\n",
    "    num_train_epochs=3,\n",
    "    per_device_train_batch_size=8,\n",
    "    learning_rate=5e-5,\n",
    "    weight_decay=0.01,\n",
    "    logging_dir=\"./logs\",\n",
    "    logging_steps=500,\n",
    "    save_steps=1000,\n",
    "    save_total_limit=2,\n",
    ")\n",
    "\n",
    "# Initialize the Trainer\n",
    "trainer = Trainer(\n",
    "    model=model,\n",
    "    args=training_args,\n",
    "    train_dataset=tokenized_dataset,\n",
    "    data_collator=data_collator,\n",
    "    tokenizer=tokenizer,\n",
    ")\n",
    "\n",
    "# Train the model\n",
    "trainer.train()\n",
    "\n",
    "# Save the fine-tuned model\n",
    "model.save_pretrained(\"./chemberta_finetuned\")\n",
    "tokenizer.save_pretrained(\"./chemberta_finetuned\")"
   ]
  }
 ],
 "metadata": {
  "kernelspec": {
   "display_name": "Python 3",
   "language": "python",
   "name": "python3"
  },
  "language_info": {
   "codemirror_mode": {
    "name": "ipython",
    "version": 3
   },
   "file_extension": ".py",
   "mimetype": "text/x-python",
   "name": "python",
   "nbconvert_exporter": "python",
   "pygments_lexer": "ipython3",
   "version": "3.12.3"
  }
 },
 "nbformat": 4,
 "nbformat_minor": 2
}
